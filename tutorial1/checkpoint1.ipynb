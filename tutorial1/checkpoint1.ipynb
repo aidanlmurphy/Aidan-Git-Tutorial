{
 "cells": [
  {
   "cell_type": "markdown",
   "metadata": {},
   "source": [
    "# Checkpoint 1"
   ]
  },
  {
   "cell_type": "markdown",
   "metadata": {},
   "source": [
    "Reminder: \n",
    "\n",
    "- You are being evaluated for compeletion and effort in this checkpoint. \n",
    "- Avoid manual labor / hard coding as much as possible, everything we've taught you so far are meant to simplify and automate your process."
   ]
  },
  {
   "cell_type": "markdown",
   "metadata": {},
   "source": [
    "We will be working with the same `states_edu.csv` that you should already be familiar with from the tutorial.\n",
    "\n",
    "We investigated Grade 8 reading score in the tutorial. For this checkpoint, you are asked to investigate another test. Here's an overview:\n",
    "\n",
    "* Choose a specific response variable to focus on\n",
    ">Grade 4 Math, Grade 4 Reading, Grade 8 Math\n",
    "* Pick or create features to use\n",
    ">Will all the features be useful in predicting test score? Are some more important than others? Should you standardize, bin, or scale the data?\n",
    "* Explore the data as it relates to that test\n",
    ">Create at least 2 visualizations (graphs), each with a caption describing the graph and what it tells us about the data\n",
    "* Create training and testing data\n",
    ">Do you want to train on all the data? Only data from the last 10 years? Only Michigan data?\n",
    "* Train a ML model to predict outcome \n",
    ">Define what you want to predict, and pick a model in sklearn to use (see sklearn <a href=\"https://scikit-learn.org/stable/modules/linear_model.html\">regressors</a>.\n",
    "* Summarize your findings\n",
    ">Write a 1 paragraph summary of what you did and make a recommendation about if and how student performance can be predicted\n",
    "\n",
    "Include comments throughout your code! Every cleanup and preprocessing task should be documented.\n",
    "\n",
    "Of course, if you're finding this assignment interesting (and we really hope you do!), you are welcome to do more than the requirements! For example, you may want to see if expenditure affects 4th graders more than 8th graders. Maybe you want to look into the extended version of this dataset and see how factors like sex and race are involved. You can include all your work in this notebook when you turn it in -- just always make sure you explain what you did and interpret your results. Good luck!"
   ]
  },
  {
   "cell_type": "markdown",
   "metadata": {},
   "source": [
    "<h2> Data Cleanup </h2>\n",
    "\n",
    "Import `numpy`, `pandas`, and `matplotlib`.\n",
    "\n",
    "(Feel free to import other libraries!)"
   ]
  },
  {
   "cell_type": "code",
   "execution_count": 122,
   "metadata": {},
   "outputs": [],
   "source": [
    "import numpy as np\n",
    "import pandas as pd\n",
    "import matplotlib.pyplot as plt"
   ]
  },
  {
   "cell_type": "markdown",
   "metadata": {},
   "source": [
    "Load in the \"states_edu.csv\" dataset and take a look at the head of the data"
   ]
  },
  {
   "cell_type": "code",
   "execution_count": 123,
   "metadata": {},
   "outputs": [
    {
     "data": {
      "text/html": [
       "<div>\n",
       "<style scoped>\n",
       "    .dataframe tbody tr th:only-of-type {\n",
       "        vertical-align: middle;\n",
       "    }\n",
       "\n",
       "    .dataframe tbody tr th {\n",
       "        vertical-align: top;\n",
       "    }\n",
       "\n",
       "    .dataframe thead th {\n",
       "        text-align: right;\n",
       "    }\n",
       "</style>\n",
       "<table border=\"1\" class=\"dataframe\">\n",
       "  <thead>\n",
       "    <tr style=\"text-align: right;\">\n",
       "      <th></th>\n",
       "      <th>YEAR</th>\n",
       "      <th>ENROLL</th>\n",
       "      <th>TOTAL_REVENUE</th>\n",
       "      <th>FEDERAL_REVENUE</th>\n",
       "      <th>STATE_REVENUE</th>\n",
       "      <th>LOCAL_REVENUE</th>\n",
       "      <th>TOTAL_EXPENDITURE</th>\n",
       "      <th>INSTRUCTION_EXPENDITURE</th>\n",
       "      <th>SUPPORT_SERVICES_EXPENDITURE</th>\n",
       "      <th>OTHER_EXPENDITURE</th>\n",
       "      <th>...</th>\n",
       "      <th>GRADES_4_G</th>\n",
       "      <th>GRADES_8_G</th>\n",
       "      <th>GRADES_12_G</th>\n",
       "      <th>GRADES_1_8_G</th>\n",
       "      <th>GRADES_9_12_G</th>\n",
       "      <th>GRADES_ALL_G</th>\n",
       "      <th>AVG_MATH_4_SCORE</th>\n",
       "      <th>AVG_MATH_8_SCORE</th>\n",
       "      <th>AVG_READING_4_SCORE</th>\n",
       "      <th>AVG_READING_8_SCORE</th>\n",
       "    </tr>\n",
       "  </thead>\n",
       "  <tbody>\n",
       "    <tr>\n",
       "      <th>count</th>\n",
       "      <td>1715.000000</td>\n",
       "      <td>1.224000e+03</td>\n",
       "      <td>1.275000e+03</td>\n",
       "      <td>1.275000e+03</td>\n",
       "      <td>1.275000e+03</td>\n",
       "      <td>1.275000e+03</td>\n",
       "      <td>1.275000e+03</td>\n",
       "      <td>1.275000e+03</td>\n",
       "      <td>1.275000e+03</td>\n",
       "      <td>1.224000e+03</td>\n",
       "      <td>...</td>\n",
       "      <td>1632.000000</td>\n",
       "      <td>1632.000000</td>\n",
       "      <td>1632.000000</td>\n",
       "      <td>1.020000e+03</td>\n",
       "      <td>1.071000e+03</td>\n",
       "      <td>1.632000e+03</td>\n",
       "      <td>565.000000</td>\n",
       "      <td>602.000000</td>\n",
       "      <td>650.000000</td>\n",
       "      <td>562.000000</td>\n",
       "    </tr>\n",
       "    <tr>\n",
       "      <th>mean</th>\n",
       "      <td>2002.075219</td>\n",
       "      <td>9.175416e+05</td>\n",
       "      <td>9.102045e+06</td>\n",
       "      <td>7.677799e+05</td>\n",
       "      <td>4.223743e+06</td>\n",
       "      <td>4.110522e+06</td>\n",
       "      <td>9.206242e+06</td>\n",
       "      <td>4.768010e+06</td>\n",
       "      <td>2.682587e+06</td>\n",
       "      <td>4.299509e+05</td>\n",
       "      <td>...</td>\n",
       "      <td>69166.507966</td>\n",
       "      <td>68106.537377</td>\n",
       "      <td>58420.870711</td>\n",
       "      <td>5.779547e+05</td>\n",
       "      <td>2.820691e+05</td>\n",
       "      <td>9.139695e+05</td>\n",
       "      <td>236.327434</td>\n",
       "      <td>278.280731</td>\n",
       "      <td>218.806154</td>\n",
       "      <td>263.558719</td>\n",
       "    </tr>\n",
       "    <tr>\n",
       "      <th>std</th>\n",
       "      <td>9.568621</td>\n",
       "      <td>1.066514e+06</td>\n",
       "      <td>1.175962e+07</td>\n",
       "      <td>1.146992e+06</td>\n",
       "      <td>5.549735e+06</td>\n",
       "      <td>5.489562e+06</td>\n",
       "      <td>1.199279e+07</td>\n",
       "      <td>6.300569e+06</td>\n",
       "      <td>3.357214e+06</td>\n",
       "      <td>5.347893e+05</td>\n",
       "      <td>...</td>\n",
       "      <td>79957.990356</td>\n",
       "      <td>77965.847263</td>\n",
       "      <td>67438.530709</td>\n",
       "      <td>6.757837e+05</td>\n",
       "      <td>3.307098e+05</td>\n",
       "      <td>1.055893e+06</td>\n",
       "      <td>9.285505</td>\n",
       "      <td>10.343482</td>\n",
       "      <td>7.681805</td>\n",
       "      <td>6.612601</td>\n",
       "    </tr>\n",
       "    <tr>\n",
       "      <th>min</th>\n",
       "      <td>1986.000000</td>\n",
       "      <td>4.386600e+04</td>\n",
       "      <td>4.656500e+05</td>\n",
       "      <td>3.102000e+04</td>\n",
       "      <td>0.000000e+00</td>\n",
       "      <td>2.209300e+04</td>\n",
       "      <td>4.816650e+05</td>\n",
       "      <td>2.655490e+05</td>\n",
       "      <td>1.399630e+05</td>\n",
       "      <td>1.154100e+04</td>\n",
       "      <td>...</td>\n",
       "      <td>4577.000000</td>\n",
       "      <td>3371.000000</td>\n",
       "      <td>2572.000000</td>\n",
       "      <td>3.769800e+04</td>\n",
       "      <td>1.353000e+04</td>\n",
       "      <td>6.844900e+04</td>\n",
       "      <td>192.000000</td>\n",
       "      <td>231.000000</td>\n",
       "      <td>179.000000</td>\n",
       "      <td>236.000000</td>\n",
       "    </tr>\n",
       "    <tr>\n",
       "      <th>25%</th>\n",
       "      <td>1994.000000</td>\n",
       "      <td>2.645145e+05</td>\n",
       "      <td>2.189504e+06</td>\n",
       "      <td>1.899575e+05</td>\n",
       "      <td>1.165776e+06</td>\n",
       "      <td>7.151210e+05</td>\n",
       "      <td>2.170404e+06</td>\n",
       "      <td>1.171336e+06</td>\n",
       "      <td>6.380760e+05</td>\n",
       "      <td>1.034492e+05</td>\n",
       "      <td>...</td>\n",
       "      <td>18971.500000</td>\n",
       "      <td>19594.250000</td>\n",
       "      <td>16076.500000</td>\n",
       "      <td>1.649250e+05</td>\n",
       "      <td>8.060800e+04</td>\n",
       "      <td>2.480832e+05</td>\n",
       "      <td>232.000000</td>\n",
       "      <td>272.000000</td>\n",
       "      <td>215.000000</td>\n",
       "      <td>260.000000</td>\n",
       "    </tr>\n",
       "    <tr>\n",
       "      <th>50%</th>\n",
       "      <td>2002.000000</td>\n",
       "      <td>6.499335e+05</td>\n",
       "      <td>5.085826e+06</td>\n",
       "      <td>4.035480e+05</td>\n",
       "      <td>2.537754e+06</td>\n",
       "      <td>2.058996e+06</td>\n",
       "      <td>5.242672e+06</td>\n",
       "      <td>2.658253e+06</td>\n",
       "      <td>1.525471e+06</td>\n",
       "      <td>2.717040e+05</td>\n",
       "      <td>...</td>\n",
       "      <td>49087.000000</td>\n",
       "      <td>47880.000000</td>\n",
       "      <td>39408.000000</td>\n",
       "      <td>4.051115e+05</td>\n",
       "      <td>1.869190e+05</td>\n",
       "      <td>6.458050e+05</td>\n",
       "      <td>238.000000</td>\n",
       "      <td>280.500000</td>\n",
       "      <td>220.000000</td>\n",
       "      <td>265.000000</td>\n",
       "    </tr>\n",
       "    <tr>\n",
       "      <th>75%</th>\n",
       "      <td>2010.000000</td>\n",
       "      <td>1.010532e+06</td>\n",
       "      <td>1.084516e+07</td>\n",
       "      <td>8.279320e+05</td>\n",
       "      <td>5.055548e+06</td>\n",
       "      <td>4.755293e+06</td>\n",
       "      <td>1.074420e+07</td>\n",
       "      <td>5.561959e+06</td>\n",
       "      <td>3.222924e+06</td>\n",
       "      <td>5.172222e+05</td>\n",
       "      <td>...</td>\n",
       "      <td>78504.250000</td>\n",
       "      <td>78976.000000</td>\n",
       "      <td>69397.250000</td>\n",
       "      <td>6.439752e+05</td>\n",
       "      <td>3.223280e+05</td>\n",
       "      <td>1.043420e+06</td>\n",
       "      <td>242.000000</td>\n",
       "      <td>286.000000</td>\n",
       "      <td>224.000000</td>\n",
       "      <td>268.000000</td>\n",
       "    </tr>\n",
       "    <tr>\n",
       "      <th>max</th>\n",
       "      <td>2019.000000</td>\n",
       "      <td>6.307022e+06</td>\n",
       "      <td>8.921726e+07</td>\n",
       "      <td>9.990221e+06</td>\n",
       "      <td>5.090457e+07</td>\n",
       "      <td>3.610526e+07</td>\n",
       "      <td>8.532013e+07</td>\n",
       "      <td>4.396452e+07</td>\n",
       "      <td>2.605802e+07</td>\n",
       "      <td>3.995951e+06</td>\n",
       "      <td>...</td>\n",
       "      <td>493415.000000</td>\n",
       "      <td>500143.000000</td>\n",
       "      <td>498403.000000</td>\n",
       "      <td>3.929869e+06</td>\n",
       "      <td>2.013687e+06</td>\n",
       "      <td>6.441557e+06</td>\n",
       "      <td>253.000000</td>\n",
       "      <td>301.000000</td>\n",
       "      <td>237.000000</td>\n",
       "      <td>280.000000</td>\n",
       "    </tr>\n",
       "  </tbody>\n",
       "</table>\n",
       "<p>8 rows × 23 columns</p>\n",
       "</div>"
      ],
      "text/plain": [
       "              YEAR        ENROLL  TOTAL_REVENUE  FEDERAL_REVENUE  \\\n",
       "count  1715.000000  1.224000e+03   1.275000e+03     1.275000e+03   \n",
       "mean   2002.075219  9.175416e+05   9.102045e+06     7.677799e+05   \n",
       "std       9.568621  1.066514e+06   1.175962e+07     1.146992e+06   \n",
       "min    1986.000000  4.386600e+04   4.656500e+05     3.102000e+04   \n",
       "25%    1994.000000  2.645145e+05   2.189504e+06     1.899575e+05   \n",
       "50%    2002.000000  6.499335e+05   5.085826e+06     4.035480e+05   \n",
       "75%    2010.000000  1.010532e+06   1.084516e+07     8.279320e+05   \n",
       "max    2019.000000  6.307022e+06   8.921726e+07     9.990221e+06   \n",
       "\n",
       "       STATE_REVENUE  LOCAL_REVENUE  TOTAL_EXPENDITURE  \\\n",
       "count   1.275000e+03   1.275000e+03       1.275000e+03   \n",
       "mean    4.223743e+06   4.110522e+06       9.206242e+06   \n",
       "std     5.549735e+06   5.489562e+06       1.199279e+07   \n",
       "min     0.000000e+00   2.209300e+04       4.816650e+05   \n",
       "25%     1.165776e+06   7.151210e+05       2.170404e+06   \n",
       "50%     2.537754e+06   2.058996e+06       5.242672e+06   \n",
       "75%     5.055548e+06   4.755293e+06       1.074420e+07   \n",
       "max     5.090457e+07   3.610526e+07       8.532013e+07   \n",
       "\n",
       "       INSTRUCTION_EXPENDITURE  SUPPORT_SERVICES_EXPENDITURE  \\\n",
       "count             1.275000e+03                  1.275000e+03   \n",
       "mean              4.768010e+06                  2.682587e+06   \n",
       "std               6.300569e+06                  3.357214e+06   \n",
       "min               2.655490e+05                  1.399630e+05   \n",
       "25%               1.171336e+06                  6.380760e+05   \n",
       "50%               2.658253e+06                  1.525471e+06   \n",
       "75%               5.561959e+06                  3.222924e+06   \n",
       "max               4.396452e+07                  2.605802e+07   \n",
       "\n",
       "       OTHER_EXPENDITURE  ...     GRADES_4_G     GRADES_8_G    GRADES_12_G  \\\n",
       "count       1.224000e+03  ...    1632.000000    1632.000000    1632.000000   \n",
       "mean        4.299509e+05  ...   69166.507966   68106.537377   58420.870711   \n",
       "std         5.347893e+05  ...   79957.990356   77965.847263   67438.530709   \n",
       "min         1.154100e+04  ...    4577.000000    3371.000000    2572.000000   \n",
       "25%         1.034492e+05  ...   18971.500000   19594.250000   16076.500000   \n",
       "50%         2.717040e+05  ...   49087.000000   47880.000000   39408.000000   \n",
       "75%         5.172222e+05  ...   78504.250000   78976.000000   69397.250000   \n",
       "max         3.995951e+06  ...  493415.000000  500143.000000  498403.000000   \n",
       "\n",
       "       GRADES_1_8_G  GRADES_9_12_G  GRADES_ALL_G  AVG_MATH_4_SCORE  \\\n",
       "count  1.020000e+03   1.071000e+03  1.632000e+03        565.000000   \n",
       "mean   5.779547e+05   2.820691e+05  9.139695e+05        236.327434   \n",
       "std    6.757837e+05   3.307098e+05  1.055893e+06          9.285505   \n",
       "min    3.769800e+04   1.353000e+04  6.844900e+04        192.000000   \n",
       "25%    1.649250e+05   8.060800e+04  2.480832e+05        232.000000   \n",
       "50%    4.051115e+05   1.869190e+05  6.458050e+05        238.000000   \n",
       "75%    6.439752e+05   3.223280e+05  1.043420e+06        242.000000   \n",
       "max    3.929869e+06   2.013687e+06  6.441557e+06        253.000000   \n",
       "\n",
       "       AVG_MATH_8_SCORE  AVG_READING_4_SCORE  AVG_READING_8_SCORE  \n",
       "count        602.000000           650.000000           562.000000  \n",
       "mean         278.280731           218.806154           263.558719  \n",
       "std           10.343482             7.681805             6.612601  \n",
       "min          231.000000           179.000000           236.000000  \n",
       "25%          272.000000           215.000000           260.000000  \n",
       "50%          280.500000           220.000000           265.000000  \n",
       "75%          286.000000           224.000000           268.000000  \n",
       "max          301.000000           237.000000           280.000000  \n",
       "\n",
       "[8 rows x 23 columns]"
      ]
     },
     "execution_count": 123,
     "metadata": {},
     "output_type": "execute_result"
    }
   ],
   "source": [
    "df = pd.read_csv('../data/states_edu.csv')\n",
    "df.describe()"
   ]
  },
  {
   "cell_type": "markdown",
   "metadata": {},
   "source": [
    "You should always familiarize yourself with what each column in the dataframe represents. Read about the states_edu dataset here: https://www.kaggle.com/noriuk/us-education-datasets-unification-project"
   ]
  },
  {
   "cell_type": "markdown",
   "metadata": {},
   "source": [
    "Use this space to rename columns, deal with missing data, etc. _(optional)_"
   ]
  },
  {
   "cell_type": "code",
   "execution_count": 124,
   "metadata": {},
   "outputs": [
    {
     "data": {
      "text/html": [
       "<div>\n",
       "<style scoped>\n",
       "    .dataframe tbody tr th:only-of-type {\n",
       "        vertical-align: middle;\n",
       "    }\n",
       "\n",
       "    .dataframe tbody tr th {\n",
       "        vertical-align: top;\n",
       "    }\n",
       "\n",
       "    .dataframe thead th {\n",
       "        text-align: right;\n",
       "    }\n",
       "</style>\n",
       "<table border=\"1\" class=\"dataframe\">\n",
       "  <thead>\n",
       "    <tr style=\"text-align: right;\">\n",
       "      <th></th>\n",
       "      <th>PRIMARY_KEY</th>\n",
       "      <th>STATE</th>\n",
       "      <th>YEAR</th>\n",
       "      <th>ENROLL_ALL_EST</th>\n",
       "      <th>TOTAL_REVENUE</th>\n",
       "      <th>FEDERAL_REVENUE</th>\n",
       "      <th>STATE_REVENUE</th>\n",
       "      <th>LOCAL_REVENUE</th>\n",
       "      <th>TOTAL_EXPENDITURE</th>\n",
       "      <th>INSTRUCTION_EXPENDITURE</th>\n",
       "      <th>...</th>\n",
       "      <th>ENROLL_4</th>\n",
       "      <th>ENROLL_8</th>\n",
       "      <th>ENROLL_12</th>\n",
       "      <th>ENROLL_PRIMARY</th>\n",
       "      <th>ENROLL_HS</th>\n",
       "      <th>ENROLL_ALL</th>\n",
       "      <th>AVG_MATH_4_SCORE</th>\n",
       "      <th>AVG_MATH_8_SCORE</th>\n",
       "      <th>AVG_READING_4_SCORE</th>\n",
       "      <th>AVG_READING_8_SCORE</th>\n",
       "    </tr>\n",
       "  </thead>\n",
       "  <tbody>\n",
       "    <tr>\n",
       "      <th>0</th>\n",
       "      <td>1992_ALABAMA</td>\n",
       "      <td>ALABAMA</td>\n",
       "      <td>1992</td>\n",
       "      <td>NaN</td>\n",
       "      <td>2678885.0</td>\n",
       "      <td>304177.0</td>\n",
       "      <td>1659028.0</td>\n",
       "      <td>715680.0</td>\n",
       "      <td>2653798.0</td>\n",
       "      <td>1481703.0</td>\n",
       "      <td>...</td>\n",
       "      <td>57948.0</td>\n",
       "      <td>58025.0</td>\n",
       "      <td>41167.0</td>\n",
       "      <td>NaN</td>\n",
       "      <td>NaN</td>\n",
       "      <td>731634.0</td>\n",
       "      <td>208.0</td>\n",
       "      <td>252.0</td>\n",
       "      <td>207.0</td>\n",
       "      <td>NaN</td>\n",
       "    </tr>\n",
       "    <tr>\n",
       "      <th>918</th>\n",
       "      <td>2010_ALABAMA</td>\n",
       "      <td>ALABAMA</td>\n",
       "      <td>2010</td>\n",
       "      <td>748889.0</td>\n",
       "      <td>7281058.0</td>\n",
       "      <td>1134111.0</td>\n",
       "      <td>3800128.0</td>\n",
       "      <td>2346819.0</td>\n",
       "      <td>7647571.0</td>\n",
       "      <td>3900492.0</td>\n",
       "      <td>...</td>\n",
       "      <td>59117.0</td>\n",
       "      <td>57992.0</td>\n",
       "      <td>49719.0</td>\n",
       "      <td>467768.0</td>\n",
       "      <td>221940.0</td>\n",
       "      <td>755552.0</td>\n",
       "      <td>NaN</td>\n",
       "      <td>NaN</td>\n",
       "      <td>NaN</td>\n",
       "      <td>NaN</td>\n",
       "    </tr>\n",
       "    <tr>\n",
       "      <th>969</th>\n",
       "      <td>2011_ALABAMA</td>\n",
       "      <td>ALABAMA</td>\n",
       "      <td>2011</td>\n",
       "      <td>746933.0</td>\n",
       "      <td>7376725.0</td>\n",
       "      <td>1077070.0</td>\n",
       "      <td>3965614.0</td>\n",
       "      <td>2334041.0</td>\n",
       "      <td>7411768.0</td>\n",
       "      <td>3844055.0</td>\n",
       "      <td>...</td>\n",
       "      <td>56491.0</td>\n",
       "      <td>57919.0</td>\n",
       "      <td>49510.0</td>\n",
       "      <td>461122.0</td>\n",
       "      <td>217615.0</td>\n",
       "      <td>744621.0</td>\n",
       "      <td>231.0</td>\n",
       "      <td>269.0</td>\n",
       "      <td>220.0</td>\n",
       "      <td>258.0</td>\n",
       "    </tr>\n",
       "    <tr>\n",
       "      <th>357</th>\n",
       "      <td>1999_ALABAMA</td>\n",
       "      <td>ALABAMA</td>\n",
       "      <td>1999</td>\n",
       "      <td>737639.0</td>\n",
       "      <td>4471546.0</td>\n",
       "      <td>393095.0</td>\n",
       "      <td>2752653.0</td>\n",
       "      <td>1325798.0</td>\n",
       "      <td>4622810.0</td>\n",
       "      <td>2399626.0</td>\n",
       "      <td>...</td>\n",
       "      <td>60012.0</td>\n",
       "      <td>56201.0</td>\n",
       "      <td>42576.0</td>\n",
       "      <td>472019.0</td>\n",
       "      <td>202045.0</td>\n",
       "      <td>740732.0</td>\n",
       "      <td>NaN</td>\n",
       "      <td>NaN</td>\n",
       "      <td>NaN</td>\n",
       "      <td>NaN</td>\n",
       "    </tr>\n",
       "    <tr>\n",
       "      <th>1020</th>\n",
       "      <td>2012_ALABAMA</td>\n",
       "      <td>ALABAMA</td>\n",
       "      <td>2012</td>\n",
       "      <td>744621.0</td>\n",
       "      <td>7136949.0</td>\n",
       "      <td>789954.0</td>\n",
       "      <td>3948651.0</td>\n",
       "      <td>2398344.0</td>\n",
       "      <td>7222161.0</td>\n",
       "      <td>3695221.0</td>\n",
       "      <td>...</td>\n",
       "      <td>55859.0</td>\n",
       "      <td>58151.0</td>\n",
       "      <td>48945.0</td>\n",
       "      <td>458974.0</td>\n",
       "      <td>217203.0</td>\n",
       "      <td>744637.0</td>\n",
       "      <td>NaN</td>\n",
       "      <td>NaN</td>\n",
       "      <td>NaN</td>\n",
       "      <td>NaN</td>\n",
       "    </tr>\n",
       "    <tr>\n",
       "      <th>...</th>\n",
       "      <td>...</td>\n",
       "      <td>...</td>\n",
       "      <td>...</td>\n",
       "      <td>...</td>\n",
       "      <td>...</td>\n",
       "      <td>...</td>\n",
       "      <td>...</td>\n",
       "      <td>...</td>\n",
       "      <td>...</td>\n",
       "      <td>...</td>\n",
       "      <td>...</td>\n",
       "      <td>...</td>\n",
       "      <td>...</td>\n",
       "      <td>...</td>\n",
       "      <td>...</td>\n",
       "      <td>...</td>\n",
       "      <td>...</td>\n",
       "      <td>...</td>\n",
       "      <td>...</td>\n",
       "      <td>...</td>\n",
       "      <td>...</td>\n",
       "    </tr>\n",
       "    <tr>\n",
       "      <th>560</th>\n",
       "      <td>2002_WYOMING</td>\n",
       "      <td>WYOMING</td>\n",
       "      <td>2002</td>\n",
       "      <td>87897.0</td>\n",
       "      <td>908719.0</td>\n",
       "      <td>75498.0</td>\n",
       "      <td>443525.0</td>\n",
       "      <td>389696.0</td>\n",
       "      <td>868607.0</td>\n",
       "      <td>463839.0</td>\n",
       "      <td>...</td>\n",
       "      <td>6406.0</td>\n",
       "      <td>6994.0</td>\n",
       "      <td>6631.0</td>\n",
       "      <td>52105.0</td>\n",
       "      <td>28190.0</td>\n",
       "      <td>88116.0</td>\n",
       "      <td>NaN</td>\n",
       "      <td>NaN</td>\n",
       "      <td>221.0</td>\n",
       "      <td>265.0</td>\n",
       "    </tr>\n",
       "    <tr>\n",
       "      <th>101</th>\n",
       "      <td>1993_WYOMING</td>\n",
       "      <td>WYOMING</td>\n",
       "      <td>1993</td>\n",
       "      <td>100313.0</td>\n",
       "      <td>615130.0</td>\n",
       "      <td>35437.0</td>\n",
       "      <td>308683.0</td>\n",
       "      <td>271010.0</td>\n",
       "      <td>614807.0</td>\n",
       "      <td>334071.0</td>\n",
       "      <td>...</td>\n",
       "      <td>8046.0</td>\n",
       "      <td>8268.0</td>\n",
       "      <td>6548.0</td>\n",
       "      <td>NaN</td>\n",
       "      <td>NaN</td>\n",
       "      <td>100899.0</td>\n",
       "      <td>NaN</td>\n",
       "      <td>NaN</td>\n",
       "      <td>NaN</td>\n",
       "      <td>NaN</td>\n",
       "    </tr>\n",
       "    <tr>\n",
       "      <th>662</th>\n",
       "      <td>2004_WYOMING</td>\n",
       "      <td>WYOMING</td>\n",
       "      <td>2004</td>\n",
       "      <td>86925.0</td>\n",
       "      <td>974888.0</td>\n",
       "      <td>95995.0</td>\n",
       "      <td>507155.0</td>\n",
       "      <td>371738.0</td>\n",
       "      <td>953916.0</td>\n",
       "      <td>483989.0</td>\n",
       "      <td>...</td>\n",
       "      <td>5862.0</td>\n",
       "      <td>6985.0</td>\n",
       "      <td>6323.0</td>\n",
       "      <td>50647.0</td>\n",
       "      <td>27448.0</td>\n",
       "      <td>84733.0</td>\n",
       "      <td>NaN</td>\n",
       "      <td>NaN</td>\n",
       "      <td>NaN</td>\n",
       "      <td>NaN</td>\n",
       "    </tr>\n",
       "    <tr>\n",
       "      <th>1625</th>\n",
       "      <td>1986_WYOMING</td>\n",
       "      <td>WYOMING</td>\n",
       "      <td>1986</td>\n",
       "      <td>NaN</td>\n",
       "      <td>NaN</td>\n",
       "      <td>NaN</td>\n",
       "      <td>NaN</td>\n",
       "      <td>NaN</td>\n",
       "      <td>NaN</td>\n",
       "      <td>NaN</td>\n",
       "      <td>...</td>\n",
       "      <td>7848.0</td>\n",
       "      <td>7247.0</td>\n",
       "      <td>6429.0</td>\n",
       "      <td>NaN</td>\n",
       "      <td>NaN</td>\n",
       "      <td>100955.0</td>\n",
       "      <td>NaN</td>\n",
       "      <td>NaN</td>\n",
       "      <td>NaN</td>\n",
       "      <td>NaN</td>\n",
       "    </tr>\n",
       "    <tr>\n",
       "      <th>1714</th>\n",
       "      <td>2019_WYOMING</td>\n",
       "      <td>WYOMING</td>\n",
       "      <td>2019</td>\n",
       "      <td>NaN</td>\n",
       "      <td>NaN</td>\n",
       "      <td>NaN</td>\n",
       "      <td>NaN</td>\n",
       "      <td>NaN</td>\n",
       "      <td>NaN</td>\n",
       "      <td>NaN</td>\n",
       "      <td>...</td>\n",
       "      <td>NaN</td>\n",
       "      <td>NaN</td>\n",
       "      <td>NaN</td>\n",
       "      <td>NaN</td>\n",
       "      <td>NaN</td>\n",
       "      <td>NaN</td>\n",
       "      <td>246.0</td>\n",
       "      <td>286.0</td>\n",
       "      <td>227.0</td>\n",
       "      <td>265.0</td>\n",
       "    </tr>\n",
       "  </tbody>\n",
       "</table>\n",
       "<p>1715 rows × 25 columns</p>\n",
       "</div>"
      ],
      "text/plain": [
       "       PRIMARY_KEY    STATE  YEAR  ENROLL_ALL_EST  TOTAL_REVENUE  \\\n",
       "0     1992_ALABAMA  ALABAMA  1992             NaN      2678885.0   \n",
       "918   2010_ALABAMA  ALABAMA  2010        748889.0      7281058.0   \n",
       "969   2011_ALABAMA  ALABAMA  2011        746933.0      7376725.0   \n",
       "357   1999_ALABAMA  ALABAMA  1999        737639.0      4471546.0   \n",
       "1020  2012_ALABAMA  ALABAMA  2012        744621.0      7136949.0   \n",
       "...            ...      ...   ...             ...            ...   \n",
       "560   2002_WYOMING  WYOMING  2002         87897.0       908719.0   \n",
       "101   1993_WYOMING  WYOMING  1993        100313.0       615130.0   \n",
       "662   2004_WYOMING  WYOMING  2004         86925.0       974888.0   \n",
       "1625  1986_WYOMING  WYOMING  1986             NaN            NaN   \n",
       "1714  2019_WYOMING  WYOMING  2019             NaN            NaN   \n",
       "\n",
       "      FEDERAL_REVENUE  STATE_REVENUE  LOCAL_REVENUE  TOTAL_EXPENDITURE  \\\n",
       "0            304177.0      1659028.0       715680.0          2653798.0   \n",
       "918         1134111.0      3800128.0      2346819.0          7647571.0   \n",
       "969         1077070.0      3965614.0      2334041.0          7411768.0   \n",
       "357          393095.0      2752653.0      1325798.0          4622810.0   \n",
       "1020         789954.0      3948651.0      2398344.0          7222161.0   \n",
       "...               ...            ...            ...                ...   \n",
       "560           75498.0       443525.0       389696.0           868607.0   \n",
       "101           35437.0       308683.0       271010.0           614807.0   \n",
       "662           95995.0       507155.0       371738.0           953916.0   \n",
       "1625              NaN            NaN            NaN                NaN   \n",
       "1714              NaN            NaN            NaN                NaN   \n",
       "\n",
       "      INSTRUCTION_EXPENDITURE  ...  ENROLL_4  ENROLL_8  ENROLL_12  \\\n",
       "0                   1481703.0  ...   57948.0   58025.0    41167.0   \n",
       "918                 3900492.0  ...   59117.0   57992.0    49719.0   \n",
       "969                 3844055.0  ...   56491.0   57919.0    49510.0   \n",
       "357                 2399626.0  ...   60012.0   56201.0    42576.0   \n",
       "1020                3695221.0  ...   55859.0   58151.0    48945.0   \n",
       "...                       ...  ...       ...       ...        ...   \n",
       "560                  463839.0  ...    6406.0    6994.0     6631.0   \n",
       "101                  334071.0  ...    8046.0    8268.0     6548.0   \n",
       "662                  483989.0  ...    5862.0    6985.0     6323.0   \n",
       "1625                      NaN  ...    7848.0    7247.0     6429.0   \n",
       "1714                      NaN  ...       NaN       NaN        NaN   \n",
       "\n",
       "      ENROLL_PRIMARY  ENROLL_HS  ENROLL_ALL  AVG_MATH_4_SCORE  \\\n",
       "0                NaN        NaN    731634.0             208.0   \n",
       "918         467768.0   221940.0    755552.0               NaN   \n",
       "969         461122.0   217615.0    744621.0             231.0   \n",
       "357         472019.0   202045.0    740732.0               NaN   \n",
       "1020        458974.0   217203.0    744637.0               NaN   \n",
       "...              ...        ...         ...               ...   \n",
       "560          52105.0    28190.0     88116.0               NaN   \n",
       "101              NaN        NaN    100899.0               NaN   \n",
       "662          50647.0    27448.0     84733.0               NaN   \n",
       "1625             NaN        NaN    100955.0               NaN   \n",
       "1714             NaN        NaN         NaN             246.0   \n",
       "\n",
       "      AVG_MATH_8_SCORE  AVG_READING_4_SCORE  AVG_READING_8_SCORE  \n",
       "0                252.0                207.0                  NaN  \n",
       "918                NaN                  NaN                  NaN  \n",
       "969              269.0                220.0                258.0  \n",
       "357                NaN                  NaN                  NaN  \n",
       "1020               NaN                  NaN                  NaN  \n",
       "...                ...                  ...                  ...  \n",
       "560                NaN                221.0                265.0  \n",
       "101                NaN                  NaN                  NaN  \n",
       "662                NaN                  NaN                  NaN  \n",
       "1625               NaN                  NaN                  NaN  \n",
       "1714             286.0                227.0                265.0  \n",
       "\n",
       "[1715 rows x 25 columns]"
      ]
     },
     "execution_count": 124,
     "metadata": {},
     "output_type": "execute_result"
    }
   ],
   "source": [
    "df.rename({\n",
    "    'GRADES_PK_G':'ENROLL_PREK',\n",
    "    'GRADES_KG_G':'ENROLL_KINDER',\n",
    "    'GRADES_4_G':'ENROLL_4',\n",
    "    'GRADES_8_G':'ENROLL_8',\n",
    "    'GRADES_12_G':'ENROLL_12',\n",
    "    'GRADES_1_8_G':'ENROLL_PRIMARY',\n",
    "    'GRADES_9_12_G':'ENROLL_HS',\n",
    "    'GRADES_ALL_G':'ENROLL_ALL',\n",
    "    'ENROLL':'ENROLL_ALL_EST'\n",
    "    },\n",
    "    axis=1,inplace=True)\n",
    "\n",
    "df.sort_values(by='STATE', ascending=True)"
   ]
  },
  {
   "cell_type": "markdown",
   "metadata": {},
   "source": [
    "<h2>Exploratory Data Analysis (EDA) </h2>"
   ]
  },
  {
   "cell_type": "markdown",
   "metadata": {},
   "source": [
    "Chosen Outcome Variable for Test: *average math 8 score*"
   ]
  },
  {
   "cell_type": "markdown",
   "metadata": {},
   "source": [
    "How many years of data are logged in our dataset? "
   ]
  },
  {
   "cell_type": "code",
   "execution_count": 125,
   "metadata": {},
   "outputs": [
    {
     "name": "stdout",
     "output_type": "stream",
     "text": [
      "2019\n",
      "1986\n",
      "33\n"
     ]
    }
   ],
   "source": [
    "column = df[\"YEAR\"]\n",
    "max_value = column.max()\n",
    "min_value = column.min()\n",
    "num_years = max_value - min_value\n",
    "print(max_value)\n",
    "print(min_value)\n",
    "print(num_years)"
   ]
  },
  {
   "cell_type": "markdown",
   "metadata": {},
   "source": [
    "Let's compare Michigan to Ohio. Which state has the higher average outcome score across all years?"
   ]
  },
  {
   "cell_type": "code",
   "execution_count": 126,
   "metadata": {},
   "outputs": [
    {
     "name": "stdout",
     "output_type": "stream",
     "text": [
      "AVG_MATH_8_SCORE    280.0\n",
      "dtype: float64 AVG_MATH_8_SCORE    290.0\n",
      "dtype: float64\n"
     ]
    }
   ],
   "source": [
    "state = df.groupby(\"STATE\")\n",
    "state\n",
    "#print(state[\"AVG_MATH_4_SCORE\"].mean(),\n",
    "#state[\"AVG_MATH_8_SCORE\"].mean(),\n",
    "#state[\"AVG_READING_4_SCORE\"].mean(),\n",
    "#state[\"AVG_READING_8_SCORE\"].mean())\n",
    "\n",
    "michigan_max = df.loc[df[\"STATE\"] == \"MICHIGAN\", [\"AVG_MATH_8_SCORE\"]].max()\n",
    "ohio_max = df.loc[df[\"STATE\"] == \"OHIO\", [\"AVG_MATH_8_SCORE\"]].max()\n",
    "print(michigan_max, ohio_max)"
   ]
  },
  {
   "cell_type": "markdown",
   "metadata": {},
   "source": [
    "Find the average for your outcome score across all states in 2019"
   ]
  },
  {
   "cell_type": "code",
   "execution_count": 127,
   "metadata": {},
   "outputs": [
    {
     "data": {
      "text/plain": [
       "AVG_MATH_8_SCORE    281.264151\n",
       "dtype: float64"
      ]
     },
     "execution_count": 127,
     "metadata": {},
     "output_type": "execute_result"
    }
   ],
   "source": [
    " # state = df.groupby(\"STATE\")\n",
    "state\n",
    "#math_4_2019 = state[\"AVG_MATH_4_SCORE\"].mean()\n",
    "#math_8_2019 = state[\"AVG_MATH_8_SCORE\"].mean()\n",
    "#reading_4_2019 = state[\"AVG_READING_4_SCORE\"].mean()\n",
    "#reading_8_2019 = state[\"AVG_READING_8_SCORE\"].mean()\n",
    "#print(math_4_2019, math_8_2019, reading_4_2019, reading_8_2019)\n",
    "\n",
    "df.loc[df[\"YEAR\"] == 2019, [\"AVG_MATH_8_SCORE\"]].mean()\n"
   ]
  },
  {
   "cell_type": "markdown",
   "metadata": {},
   "source": [
    "Find the maximum outcome score for every state. \n",
    "\n",
    "Refer to the `Grouping and Aggregating` section in Tutorial 0 if you are stuck."
   ]
  },
  {
   "cell_type": "code",
   "execution_count": 128,
   "metadata": {},
   "outputs": [
    {
     "data": {
      "text/plain": [
       "STATE\n",
       "ALABAMA                  978.0\n",
       "ALASKA                   993.0\n",
       "ARIZONA                  999.0\n",
       "ARKANSAS                 999.0\n",
       "CALIFORNIA               987.0\n",
       "COLORADO                1035.0\n",
       "CONNECTICUT             1035.0\n",
       "DELAWARE                1017.0\n",
       "DISTRICT_OF_COLUMBIA     968.0\n",
       "DODEA                   1057.0\n",
       "FLORIDA                 1020.0\n",
       "GEORGIA                 1006.0\n",
       "HAWAII                   999.0\n",
       "IDAHO                   1017.0\n",
       "ILLINOIS                1010.0\n",
       "INDIANA                 1033.0\n",
       "IOWA                    1024.0\n",
       "KANSAS                  1030.0\n",
       "KENTUCKY                1017.0\n",
       "LOUISIANA                973.0\n",
       "MAINE                   1029.0\n",
       "MARYLAND                1038.0\n",
       "MASSACHUSETTS           1064.0\n",
       "MICHIGAN                1000.0\n",
       "MINNESOTA               1046.0\n",
       "MISSISSIPPI              990.0\n",
       "MISSOURI                1018.0\n",
       "MONTANA                 1035.0\n",
       "NATIONAL                1017.0\n",
       "NEBRASKA                1027.0\n",
       "NEVADA                   990.0\n",
       "NEW_HAMPSHIRE           1055.0\n",
       "NEW_JERSEY              1048.0\n",
       "NEW_MEXICO               971.0\n",
       "NEW_YORK                1012.0\n",
       "NORTH_CAROLINA          1018.0\n",
       "NORTH_DAKOTA            1033.0\n",
       "OHIO                    1029.0\n",
       "OKLAHOMA                1000.0\n",
       "OREGON                  1011.0\n",
       "PENNSYLVANIA            1032.0\n",
       "RHODE_ISLAND            1015.0\n",
       "SOUTH_CAROLINA           993.0\n",
       "SOUTH_DAKOTA            1025.0\n",
       "TENNESSEE               1003.0\n",
       "TEXAS                   1011.0\n",
       "UTAH                    1024.0\n",
       "VERMONT                 1045.0\n",
       "VIRGINIA                1034.0\n",
       "WASHINGTON              1033.0\n",
       "WEST_VIRGINIA            985.0\n",
       "WISCONSIN               1025.0\n",
       "WYOMING                 1033.0\n",
       "Name: TOTAL_OUTCOME_SCORE, dtype: float64"
      ]
     },
     "execution_count": 128,
     "metadata": {},
     "output_type": "execute_result"
    }
   ],
   "source": [
    "state = df.groupby(\"STATE\")\n",
    "df[\"TOTAL_OUTCOME_SCORE\"] = df[\"AVG_MATH_4_SCORE\"] + df[\"AVG_MATH_8_SCORE\"] + df[\"AVG_READING_4_SCORE\"] + df[\"AVG_READING_8_SCORE\"]\n",
    "state\n",
    "state[\"TOTAL_OUTCOME_SCORE\"].max()"
   ]
  },
  {
   "cell_type": "markdown",
   "metadata": {},
   "source": [
    "<h2> Feature Engineering </h2>\n",
    "\n",
    "After exploring the data, you can choose to modify features that you would use to predict the performance of the students on your chosen response variable. \n",
    "\n",
    "You can also create your own features. For example, perhaps you figured that maybe a state's expenditure per student may affect their overall academic performance so you create a expenditure_per_student feature.\n",
    "\n",
    "Use this space to modify or create features."
   ]
  },
  {
   "cell_type": "code",
   "execution_count": 129,
   "metadata": {},
   "outputs": [],
   "source": [
    "instruction_expenditure_per_student = df[\"INSTRUCTION_EXPENDITURE\"] / df[\"ENROLL_ALL\"]\n",
    "percent_instruction_expenditure = df[\"INSTRUCTION_EXPENDITURE\"] / df[\"TOTAL_EXPENDITURE\"]"
   ]
  },
  {
   "cell_type": "markdown",
   "metadata": {},
   "source": [
    "I thought that the expenditure on instruction per student might affect their academic performance. It also may be helpful to see what part of total expenditure is given to expenditure on instruction as a percent. This could help us see if instruction in schools is a priority"
   ]
  },
  {
   "cell_type": "markdown",
   "metadata": {},
   "source": [
    "<h2>Visualization</h2>\n",
    "\n",
    "Investigate the relationship between your chosen response variable and at least two predictors using visualizations. Write down your observations.\n",
    "\n",
    "**Visualization 1**"
   ]
  },
  {
   "cell_type": "code",
   "execution_count": 130,
   "metadata": {},
   "outputs": [
    {
     "data": {
      "text/plain": [
       "Text(0, 0.5, '8th Grade Math Score')"
      ]
     },
     "execution_count": 130,
     "metadata": {},
     "output_type": "execute_result"
    },
    {
     "data": {
      "image/png": "[encoded data removed]",
      "text/plain": [
       "<Figure size 432x288 with 1 Axes>"
      ]
     },
     "metadata": {
      "needs_background": "light"
     },
     "output_type": "display_data"
    }
   ],
   "source": [
    "df.plot.scatter(x='TOTAL_EXPENDITURE', y='AVG_MATH_8_SCORE', alpha=0.6)\n",
    "plt.xlabel('Total Expenditure on Schooling')\n",
    "plt.ylabel('8th Grade Math Score')"
   ]
  },
  {
   "cell_type": "markdown",
   "metadata": {},
   "source": [
    "Total Expenditure on Schooling vs. 8th Grade Math Score. There is not a very strong correlation between total expenditure and the 8th grade math scores. The schools who spent the least on schooling had data for the highest and the lowest 8th grade math scores"
   ]
  },
  {
   "cell_type": "markdown",
   "metadata": {},
   "source": [
    "**Visualization 2**"
   ]
  },
  {
   "cell_type": "code",
   "execution_count": 131,
   "metadata": {},
   "outputs": [
    {
     "data": {
      "text/plain": [
       "Text(0, 0.5, '8th Grade Math Score')"
      ]
     },
     "execution_count": 131,
     "metadata": {},
     "output_type": "execute_result"
    },
    {
     "data": {
      "image/png": "[encoded data removed]",
      "text/plain": [
       "<Figure size 432x288 with 1 Axes>"
      ]
     },
     "metadata": {
      "needs_background": "light"
     },
     "output_type": "display_data"
    }
   ],
   "source": [
    "df.plot.scatter(x='AVG_MATH_4_SCORE', y='AVG_MATH_8_SCORE', alpha=0.6)\n",
    "plt.xlabel('4th Grade Math Score')\n",
    "plt.ylabel('8th Grade Math Score')"
   ]
  },
  {
   "cell_type": "markdown",
   "metadata": {},
   "source": [
    "4th Grade Math Score vs. 8th Grade Math Score. There is a strong correlation between 4th and 8th grade math scores. Perhaps students' scores in 4th grade for math would be an indicator as to how well they perform in 8th grade"
   ]
  },
  {
   "cell_type": "markdown",
   "metadata": {},
   "source": [
    "<h2> Data Creation </h2>\n",
    "\n",
    "_Use this space to create train/test data_"
   ]
  },
  {
   "cell_type": "code",
   "execution_count": 132,
   "metadata": {},
   "outputs": [],
   "source": [
    "from sklearn.model_selection import train_test_split"
   ]
  },
  {
   "cell_type": "code",
   "execution_count": 133,
   "metadata": {},
   "outputs": [],
   "source": [
    "X = df[[\"AVG_MATH_4_SCORE\", 'AVG_READING_8_SCORE', 'ENROLL_8']].dropna()\n",
    "y = df.loc[X.index][\"AVG_MATH_8_SCORE\"]\n",
    "y.fillna(y.mean(), inplace = True)"
   ]
  },
  {
   "cell_type": "code",
   "execution_count": 134,
   "metadata": {},
   "outputs": [],
   "source": [
    "X_train, X_test, y_train, y_test = train_test_split(X, y, test_size=.3, random_state=42)"
   ]
  },
  {
   "cell_type": "markdown",
   "metadata": {},
   "source": [
    "<h2> Prediction </h2>"
   ]
  },
  {
   "cell_type": "markdown",
   "metadata": {},
   "source": [
    "ML Models [Resource](https://medium.com/@vijaya.beeravalli/comparison-of-machine-learning-classification-models-for-credit-card-default-data-c3cf805c9a5a)"
   ]
  },
  {
   "cell_type": "code",
   "execution_count": 135,
   "metadata": {},
   "outputs": [],
   "source": [
    "# import your sklearn class here\n",
    "from sklearn.linear_model import LinearRegression"
   ]
  },
  {
   "cell_type": "code",
   "execution_count": 136,
   "metadata": {},
   "outputs": [],
   "source": [
    "# create your model here\n",
    "model = LinearRegression()"
   ]
  },
  {
   "cell_type": "code",
   "execution_count": 137,
   "metadata": {},
   "outputs": [
    {
     "data": {
      "text/plain": [
       "LinearRegression()"
      ]
     },
     "execution_count": 137,
     "metadata": {},
     "output_type": "execute_result"
    }
   ],
   "source": [
    "model.fit(X_train, y_train)"
   ]
  },
  {
   "cell_type": "code",
   "execution_count": 138,
   "metadata": {},
   "outputs": [],
   "source": [
    "y_pred = model.predict(X_test)"
   ]
  },
  {
   "cell_type": "markdown",
   "metadata": {},
   "source": [
    "## Evaluation"
   ]
  },
  {
   "cell_type": "markdown",
   "metadata": {},
   "source": [
    "Choose some metrics to evaluate the performance of your model, some of them are mentioned in the tutorial."
   ]
  },
  {
   "cell_type": "code",
   "execution_count": 139,
   "metadata": {
    "scrolled": true
   },
   "outputs": [
    {
     "name": "stdout",
     "output_type": "stream",
     "text": [
      "-31.171452679566357\n",
      "[ 7.11807369e-01  5.39544208e-01 -3.49091483e-07]\n",
      "0.9241237579129834\n",
      "0.5203599767354633\n",
      "1.8708541480042316\n"
     ]
    },
    {
     "data": {
      "text/plain": [
       "2.3677808480622837"
      ]
     },
     "execution_count": 139,
     "metadata": {},
     "output_type": "execute_result"
    }
   ],
   "source": [
    "print(model.intercept_)\n",
    "print(model.coef_)\n",
    "print(model.score(X_test, y_test))\n",
    "print(np.mean(model.predict(X_test)-y_test))\n",
    "print(np.mean(np.abs(model.predict(X_test)-y_test)))\n",
    "np.mean((model.predict(X_test)-y_test)**2)**0.5"
   ]
  },
  {
   "cell_type": "markdown",
   "metadata": {},
   "source": [
    "We have copied over the graphs that visualize the model's performance on the training and testing set. \n",
    "\n",
    "Change `col_name` and modify the call to `plt.ylabel()` to isolate how a single predictor affects the model."
   ]
  },
  {
   "cell_type": "code",
   "execution_count": 140,
   "metadata": {},
   "outputs": [
    {
     "data": {
      "text/plain": [
       "Text(0.5, 1.0, 'Model Behavior On Training Set')"
      ]
     },
     "execution_count": 140,
     "metadata": {},
     "output_type": "execute_result"
    },
    {
     "data": {
      "image/png": "[encoded data removed]",
      "text/plain": [
       "<Figure size 864x432 with 1 Axes>"
      ]
     },
     "metadata": {
      "needs_background": "light"
     },
     "output_type": "display_data"
    }
   ],
   "source": [
    " col_name = 'AVG_MATH_4_SCORE'\n",
    "\n",
    "f = plt.figure(figsize=(12,6))\n",
    "plt.scatter(X_train[col_name], y_train, color = \"red\")\n",
    "plt.scatter(X_train[col_name], model.predict(X_train), color = \"green\")\n",
    "\n",
    "plt.legend(['True Training','Predicted Training'])\n",
    "plt.xlabel(col_name)\n",
    "plt.ylabel('Math 8 Score')\n",
    "plt.title(\"Model Behavior On Training Set\")"
   ]
  },
  {
   "cell_type": "code",
   "execution_count": 141,
   "metadata": {},
   "outputs": [
    {
     "data": {
      "text/plain": [
       "Text(0.5, 1.0, 'Model Behavior on Testing Set')"
      ]
     },
     "execution_count": 141,
     "metadata": {},
     "output_type": "execute_result"
    },
    {
     "data": {
      "image/png": "[encoded data removed]",
      "text/plain": [
       "<Figure size 864x432 with 1 Axes>"
      ]
     },
     "metadata": {
      "needs_background": "light"
     },
     "output_type": "display_data"
    }
   ],
   "source": [
    "col_name = 'AVG_MATH_4_SCORE'\n",
    "\n",
    "f = plt.figure(figsize=(12,6))\n",
    "plt.scatter(X_test[col_name], y_test, color = \"blue\")\n",
    "plt.scatter(X_test[col_name], model.predict(X_test), color = \"black\")\n",
    "\n",
    "plt.legend(['True testing','Predicted testing'])\n",
    "plt.xlabel(col_name)\n",
    "plt.ylabel('Math 4 score')\n",
    "plt.title(\"Model Behavior on Testing Set\")"
   ]
  },
  {
   "cell_type": "code",
   "execution_count": 142,
   "metadata": {},
   "outputs": [
    {
     "data": {
      "text/plain": [
       "array([-5.15098368, -5.04523239, -5.03353398, -5.02192272, -4.75360232,\n",
       "       -4.61837766, -4.39320529, -4.06146668, -3.84079671, -3.8208342 ,\n",
       "       -3.7398568 , -3.59569704, -3.49634943, -3.45847317, -3.40960599,\n",
       "       -3.20595539, -3.18366943, -3.05650919, -3.01010069, -3.00107056,\n",
       "       -2.98261473, -2.85905063, -2.79073312, -2.77995   , -2.77034897,\n",
       "       -2.71030063, -2.68434094, -2.51838442, -2.51218934, -2.51000413,\n",
       "       -2.29772225, -2.0454474 , -2.01292173, -1.98537894, -1.81238307,\n",
       "       -1.51498801, -1.47599746, -1.40856094, -1.36073602, -1.29958405,\n",
       "       -1.25279257, -1.22806659, -1.13616663, -1.10235293, -1.07461429,\n",
       "       -1.06227091, -1.0573313 , -1.01326877, -1.00430672, -0.99343214,\n",
       "       -0.98233214, -0.90880294, -0.83050228, -0.82164758, -0.79489178,\n",
       "       -0.76465148, -0.69674122, -0.68992235, -0.65305602, -0.6327996 ,\n",
       "       -0.59191251, -0.52609226, -0.52187464, -0.51770458, -0.49757256,\n",
       "       -0.46097769, -0.45347167, -0.43824077, -0.24422904, -0.23574622,\n",
       "       -0.18074732, -0.17773476, -0.16361094, -0.12092338,  0.07919775,\n",
       "        0.13840885,  0.20576738,  0.23543893,  0.23590772,  0.24567677,\n",
       "        0.29269667,  0.30311684,  0.31550714,  0.33924665,  0.41995115,\n",
       "        0.49269134,  0.59699041,  0.64209858,  0.65383789,  0.71241376,\n",
       "        0.81860962,  0.82889701,  0.86411373,  0.95276907,  0.96276844,\n",
       "        0.97658996,  0.99846091,  1.17686599,  1.18659978,  1.29777477,\n",
       "        1.45400073,  1.54664975,  1.71067462,  1.73493031,  1.74060703,\n",
       "        1.74178248,  1.75293526,  2.0451498 ,  2.2758743 ,  2.31943365,\n",
       "        2.46253232,  2.47572281,  2.81721529,  2.90670097,  3.27597659,\n",
       "        3.2953233 ,  3.64385116,  3.8170673 ,  4.2091637 ,  4.47671485,\n",
       "        4.60697852,  5.28203454,  5.49167513])"
      ]
     },
     "execution_count": 142,
     "metadata": {},
     "output_type": "execute_result"
    }
   ],
   "source": [
    "np.sort(y_test - model.predict(X_test))"
   ]
  },
  {
   "cell_type": "markdown",
   "metadata": {},
   "source": [
    "<h2> Summary </h2>"
   ]
  },
  {
   "cell_type": "markdown",
   "metadata": {},
   "source": [
    "WRITE PARAGRAPH HERE\n"
   ]
  }
 ],
 "metadata": {
  "kernelspec": {
   "display_name": "Python 3 (ipykernel)",
   "language": "python",
   "name": "python3"
  },
  "language_info": {
   "codemirror_mode": {
    "name": "ipython",
    "version": 3
   },
   "file_extension": ".py",
   "mimetype": "text/x-python",
   "name": "python",
   "nbconvert_exporter": "python",
   "pygments_lexer": "ipython3",
   "version": "3.9.7"
  },
  "vscode": {
   "interpreter": {
    "hash": "6cf8df3ff69f85f626faf55c10df6fe2cb9d1236b4dc73844ee4dc01369c2c99"
   }
  }
 },
 "nbformat": 4,
 "nbformat_minor": 4
}
